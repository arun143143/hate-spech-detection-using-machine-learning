{
 "cells": [
  {
   "cell_type": "code",
   "execution_count": 1,
   "metadata": {},
   "outputs": [
    {
     "name": "stderr",
     "output_type": "stream",
     "text": [
      "D:\\Anaconda3\\lib\\site-packages\\h5py\\__init__.py:36: FutureWarning: Conversion of the second argument of issubdtype from `float` to `np.floating` is deprecated. In future, it will be treated as `np.float64 == np.dtype(float).type`.\n",
      "  from ._conv import register_converters as _register_converters\n",
      "Using TensorFlow backend.\n"
     ]
    }
   ],
   "source": [
    "import pandas as pd\n",
    "import numpy as np\n",
    "import tensorflow as tf\n",
    "from sklearn.feature_extraction.text import TfidfVectorizer\n",
    "from sklearn.feature_extraction.text import CountVectorizer\n",
    "from sklearn.feature_extraction.text import TfidfTransformer\n",
    "from sklearn.naive_bayes import MultinomialNB\n",
    "from sklearn.metrics import accuracy_score\n",
    "from sklearn.svm import LinearSVC\n",
    "from sklearn.svm import SVC\n",
    "from sklearn.ensemble import RandomForestClassifier\n",
    "from sklearn.model_selection import train_test_split\n",
    "from keras.models import Model\n",
    "from sklearn.metrics import classification_report\n",
    "from keras import layers, models, optimizers\n",
    "import sklearn.metrics as metrics"
   ]
  },
  {
   "cell_type": "markdown",
   "metadata": {},
   "source": [
    "### For 2 labels:"
   ]
  },
  {
   "cell_type": "code",
   "execution_count": 2,
   "metadata": {
    "collapsed": true
   },
   "outputs": [],
   "source": [
    "speech_data = pd.read_csv(\"speech-data-two-label.csv\")\n",
    "\n",
    "# split the dataset into training and testing datasets \n",
    "x_train, x_test, y_train, y_test = train_test_split(speech_data['VideoText'], speech_data['Category'], test_size=0.3, random_state=1)\n",
    "\n",
    "\n",
    "# create a count vectorizer object \n",
    "cv = CountVectorizer(stop_words='english')\n",
    "cv.fit(speech_data['VideoText'])\n",
    "\n",
    "# transform the training and testing data using count vectorizer object\n",
    "x_train_count =  cv.transform(x_train)\n",
    "x_test_count =  cv.transform(x_test)\n",
    "\n",
    "tfidf_tr = TfidfTransformer()\n",
    "x_train_count_tfidf = tfidf_tr.fit_transform(x_train_count)\n",
    "x_test_count_tfidf = tfidf_tr.transform(x_test_count)\n",
    "\n",
    "# ngram level tf-idf \n",
    "tv_ngram = TfidfVectorizer(ngram_range=(1,2))\n",
    "tv_ngram.fit(speech_data['VideoText'])\n",
    "x_train_tfidf_ngram =  tv_ngram.transform(x_train)\n",
    "x_test_tfidf_ngram =  tv_ngram.transform(x_test)"
   ]
  },
  {
   "cell_type": "code",
   "execution_count": 3,
   "metadata": {
    "collapsed": true
   },
   "outputs": [],
   "source": [
    "def classifierModel(classifier, Xtrain, Ytrain, Xtest):\n",
    "    classifier.fit(Xtrain, Ytrain)\n",
    "    predictions = classifier.predict(Xtest)\n",
    "    print(\"\\nAccuracy : \", accuracy_score(predictions, y_test))\n",
    "    \n",
    "    target_names = ['class 0', 'class 1']\n",
    "    print(classification_report(y_test, predictions, target_names=target_names))"
   ]
  },
  {
   "cell_type": "code",
   "execution_count": 4,
   "metadata": {},
   "outputs": [
    {
     "name": "stdout",
     "output_type": "stream",
     "text": [
      "\n",
      "Naive Bayes with Count Vectors: \n",
      "\n",
      "Accuracy :  0.8571428571428571\n",
      "             precision    recall  f1-score   support\n",
      "\n",
      "    class 0       0.97      0.84      0.90        45\n",
      "    class 1       0.59      0.91      0.71        11\n",
      "\n",
      "avg / total       0.90      0.86      0.87        56\n",
      "\n",
      "\n",
      "Naive Bayes with Count Vectors + TF-IDF: \n",
      "\n",
      "Accuracy :  0.8571428571428571\n",
      "             precision    recall  f1-score   support\n",
      "\n",
      "    class 0       0.85      1.00      0.92        45\n",
      "    class 1       1.00      0.27      0.43        11\n",
      "\n",
      "avg / total       0.88      0.86      0.82        56\n",
      "\n",
      "\n",
      "Naive Bayes with N-Gram Vectors: \n",
      "\n",
      "Accuracy :  0.8392857142857143\n",
      "             precision    recall  f1-score   support\n",
      "\n",
      "    class 0       0.83      1.00      0.91        45\n",
      "    class 1       1.00      0.18      0.31        11\n",
      "\n",
      "avg / total       0.87      0.84      0.79        56\n",
      "\n"
     ]
    }
   ],
   "source": [
    "print(\"\\nNaive Bayes with Count Vectors: \")\n",
    "classifierModel(MultinomialNB(), x_train_count, y_train, x_test_count)\n",
    "\n",
    "print(\"\\nNaive Bayes with Count Vectors + TF-IDF: \")\n",
    "classifierModel(MultinomialNB(), x_train_count_tfidf, y_train, x_test_count_tfidf)\n",
    "\n",
    "print(\"\\nNaive Bayes with N-Gram Vectors: \")\n",
    "classifierModel(MultinomialNB(), x_train_tfidf_ngram, y_train, x_test_tfidf_ngram)\n"
   ]
  },
  {
   "cell_type": "code",
   "execution_count": 5,
   "metadata": {},
   "outputs": [
    {
     "name": "stdout",
     "output_type": "stream",
     "text": [
      "\n",
      "LinearSVM with Count Vectors: \n",
      "\n",
      "Accuracy :  0.8392857142857143\n",
      "             precision    recall  f1-score   support\n",
      "\n",
      "    class 0       0.97      0.82      0.89        45\n",
      "    class 1       0.56      0.91      0.69        11\n",
      "\n",
      "avg / total       0.89      0.84      0.85        56\n",
      "\n",
      "\n",
      "LinearSVM with Count Vectors + TF-IDF: \n",
      "\n",
      "Accuracy :  0.9107142857142857\n",
      "             precision    recall  f1-score   support\n",
      "\n",
      "    class 0       0.90      1.00      0.95        45\n",
      "    class 1       1.00      0.55      0.71        11\n",
      "\n",
      "avg / total       0.92      0.91      0.90        56\n",
      "\n",
      "\n",
      "LinearSVM with N-Gram Vectors: \n",
      "\n",
      "Accuracy :  0.9285714285714286\n",
      "             precision    recall  f1-score   support\n",
      "\n",
      "    class 0       0.92      1.00      0.96        45\n",
      "    class 1       1.00      0.64      0.78        11\n",
      "\n",
      "avg / total       0.93      0.93      0.92        56\n",
      "\n"
     ]
    }
   ],
   "source": [
    "print(\"\\nLinearSVM with Count Vectors: \")\n",
    "classifierModel(SVC(kernel='linear'), x_train_count, y_train, x_test_count)\n",
    "\n",
    "print(\"\\nLinearSVM with Count Vectors + TF-IDF: \")\n",
    "classifierModel(SVC(kernel='linear'), x_train_count_tfidf, y_train, x_test_count_tfidf)\n",
    "\n",
    "print(\"\\nLinearSVM with N-Gram Vectors: \")\n",
    "classifierModel(SVC(kernel='linear'), x_train_tfidf_ngram, y_train, x_test_tfidf_ngram)\n"
   ]
  },
  {
   "cell_type": "code",
   "execution_count": 6,
   "metadata": {},
   "outputs": [
    {
     "name": "stdout",
     "output_type": "stream",
     "text": [
      "\n",
      "Random Forrest Classifier with Count Vectors: \n",
      "\n",
      "Accuracy :  0.9642857142857143\n",
      "             precision    recall  f1-score   support\n",
      "\n",
      "    class 0       1.00      0.96      0.98        45\n",
      "    class 1       0.85      1.00      0.92        11\n",
      "\n",
      "avg / total       0.97      0.96      0.97        56\n",
      "\n",
      "\n",
      "Random Forrest Classifier with Count Vectors + TF-IDF: \n",
      "\n",
      "Accuracy :  0.9464285714285714\n",
      "             precision    recall  f1-score   support\n",
      "\n",
      "    class 0       0.94      1.00      0.97        45\n",
      "    class 1       1.00      0.73      0.84        11\n",
      "\n",
      "avg / total       0.95      0.95      0.94        56\n",
      "\n",
      "\n",
      "Random Forrest Classifier with N-Gram Vectors: \n",
      "\n",
      "Accuracy :  0.9285714285714286\n",
      "             precision    recall  f1-score   support\n",
      "\n",
      "    class 0       0.92      1.00      0.96        45\n",
      "    class 1       1.00      0.64      0.78        11\n",
      "\n",
      "avg / total       0.93      0.93      0.92        56\n",
      "\n"
     ]
    }
   ],
   "source": [
    "print(\"\\nRandom Forrest Classifier with Count Vectors: \")\n",
    "classifierModel(RandomForestClassifier(random_state=40,n_estimators=1024), x_train_count, y_train, x_test_count)\n",
    "\n",
    "print(\"\\nRandom Forrest Classifier with Count Vectors + TF-IDF: \")\n",
    "classifierModel(RandomForestClassifier(random_state=40,n_estimators=1024), x_train_count_tfidf, y_train, x_test_count_tfidf)\n",
    "\n",
    "print(\"\\nRandom Forrest Classifier with N-Gram Vectors: \")\n",
    "classifierModel(RandomForestClassifier(random_state=40,n_estimators=1024), x_train_tfidf_ngram, y_train, x_test_tfidf_ngram)\n"
   ]
  },
  {
   "cell_type": "code",
   "execution_count": 24,
   "metadata": {
    "collapsed": true
   },
   "outputs": [],
   "source": [
    "def rnnModel(Xtrain, Ytrain, Xtest):\n",
    "    model = tf.keras.Sequential([\n",
    "        tf.keras.layers.Embedding(1000, 64),\n",
    "        tf.keras.layers.Bidirectional(tf.keras.layers.LSTM(10)),\n",
    "        tf.keras.layers.Dense(64, activation='relu'),\n",
    "        tf.keras.layers.Dense(1, activation='sigmoid')\n",
    "    ])\n",
    "\n",
    "    model.compile(loss='binary_crossentropy',\n",
    "                  optimizer='adam',\n",
    "                  metrics=['accuracy'])\n",
    "\n",
    "    model.fit(Xtrain, Ytrain, batch_size=30, epochs=10)\n",
    "    \n",
    "    test_loss, test_acc = model.evaluate(Xtest, y_test)\n",
    "    print(\"\\nAccuracy : \",test_acc)\n",
    "    \n",
    "    predictions = model.predict(Xtest).ravel()\n",
    "    \n",
    "    target_names = ['class 0', 'class 1']\n",
    "    print(classification_report(y_test, predictions.round(), target_names=target_names)) "
   ]
  },
  {
   "cell_type": "code",
   "execution_count": 25,
   "metadata": {},
   "outputs": [
    {
     "name": "stdout",
     "output_type": "stream",
     "text": [
      "\n",
      "RNN with Count Vectors: \n",
      "Epoch 1/10\n",
      "128/128 [==============================] - 8s 66ms/sample - loss: 0.6875 - acc: 0.7109\n",
      "Epoch 2/10\n",
      "128/128 [==============================] - 6s 51ms/sample - loss: 0.6723 - acc: 0.7109\n",
      "Epoch 3/10\n",
      "128/128 [==============================] - 7s 51ms/sample - loss: 0.6567 - acc: 0.7109\n",
      "Epoch 4/10\n",
      "128/128 [==============================] - 7s 53ms/sample - loss: 0.6407 - acc: 0.7109\n",
      "Epoch 5/10\n",
      "128/128 [==============================] - 7s 52ms/sample - loss: 0.6251 - acc: 0.7109\n",
      "Epoch 6/10\n",
      "128/128 [==============================] - 7s 53ms/sample - loss: 0.6078 - acc: 0.7109\n",
      "Epoch 7/10\n",
      "128/128 [==============================] - 7s 54ms/sample - loss: 0.6012 - acc: 0.7109\n",
      "Epoch 8/10\n",
      "128/128 [==============================] - 7s 55ms/sample - loss: 0.6046 - acc: 0.7109\n",
      "Epoch 9/10\n",
      "128/128 [==============================] - 7s 54ms/sample - loss: 0.6034 - acc: 0.7109\n",
      "Epoch 10/10\n",
      "128/128 [==============================] - 8s 63ms/sample - loss: 0.6016 - acc: 0.7109\n",
      "56/56 [==============================] - 2s 27ms/sample - loss: 0.5196 - acc: 0.8036\n",
      "\n",
      "Accuracy :  0.8035714\n"
     ]
    },
    {
     "name": "stderr",
     "output_type": "stream",
     "text": [
      "D:\\Anaconda3\\lib\\site-packages\\sklearn\\metrics\\classification.py:1135: UndefinedMetricWarning: Precision and F-score are ill-defined and being set to 0.0 in labels with no predicted samples.\n",
      "  'precision', 'predicted', average, warn_for)\n"
     ]
    },
    {
     "name": "stdout",
     "output_type": "stream",
     "text": [
      "             precision    recall  f1-score   support\n",
      "\n",
      "    class 0       0.80      1.00      0.89        45\n",
      "    class 1       0.00      0.00      0.00        11\n",
      "\n",
      "avg / total       0.65      0.80      0.72        56\n",
      "\n",
      "\n",
      "RNN with  Count Vectors + TF-IDF: \n",
      "Epoch 1/10\n",
      "128/128 [==============================] - 9s 71ms/sample - loss: 0.6885 - acc: 0.6484\n",
      "Epoch 2/10\n",
      "128/128 [==============================] - 7s 57ms/sample - loss: 0.6745 - acc: 0.7109\n",
      "Epoch 3/10\n",
      "128/128 [==============================] - 7s 56ms/sample - loss: 0.6601 - acc: 0.7109\n",
      "Epoch 4/10\n",
      "128/128 [==============================] - 7s 56ms/sample - loss: 0.6444 - acc: 0.7109\n",
      "Epoch 5/10\n",
      "128/128 [==============================] - 7s 58ms/sample - loss: 0.6294 - acc: 0.7109\n",
      "Epoch 6/10\n",
      "128/128 [==============================] - 7s 58ms/sample - loss: 0.6132 - acc: 0.7109\n",
      "Epoch 7/10\n",
      "128/128 [==============================] - 7s 58ms/sample - loss: 0.6034 - acc: 0.7109\n",
      "Epoch 8/10\n",
      "128/128 [==============================] - 7s 55ms/sample - loss: 0.6018 - acc: 0.7109\n",
      "Epoch 9/10\n",
      "128/128 [==============================] - 7s 57ms/sample - loss: 0.6051 - acc: 0.7109\n",
      "Epoch 10/10\n",
      "128/128 [==============================] - 7s 55ms/sample - loss: 0.6041 - acc: 0.7109\n",
      "56/56 [==============================] - 1s 14ms/sample - loss: 0.5107 - acc: 0.8036\n",
      "\n",
      "Accuracy :  0.8035714\n",
      "             precision    recall  f1-score   support\n",
      "\n",
      "    class 0       0.80      1.00      0.89        45\n",
      "    class 1       0.00      0.00      0.00        11\n",
      "\n",
      "avg / total       0.65      0.80      0.72        56\n",
      "\n",
      "\n",
      "RNN with N-Gram Vectors: \n",
      "Epoch 1/10\n",
      "128/128 [==============================] - 35s 277ms/sample - loss: 0.6866 - acc: 0.6016\n",
      "Epoch 2/10\n",
      "128/128 [==============================] - 39s 306ms/sample - loss: 0.6687 - acc: 0.7109\n",
      "Epoch 3/10\n",
      "128/128 [==============================] - 40s 315ms/sample - loss: 0.6495 - acc: 0.7109\n",
      "Epoch 4/10\n",
      "128/128 [==============================] - 40s 316ms/sample - loss: 0.6308 - acc: 0.7109\n",
      "Epoch 5/10\n",
      "128/128 [==============================] - 40s 314ms/sample - loss: 0.6135 - acc: 0.7109\n",
      "Epoch 6/10\n",
      "128/128 [==============================] - 41s 320ms/sample - loss: 0.6012 - acc: 0.7109\n",
      "Epoch 7/10\n",
      "128/128 [==============================] - 61s 476ms/sample - loss: 0.6037 - acc: 0.7109\n",
      "Epoch 8/10\n",
      "128/128 [==============================] - 68s 528ms/sample - loss: 0.6030 - acc: 0.7109\n",
      "Epoch 9/10\n",
      "128/128 [==============================] - 42s 329ms/sample - loss: 0.6028 - acc: 0.7109\n",
      "Epoch 10/10\n",
      "128/128 [==============================] - 44s 346ms/sample - loss: 0.6013 - acc: 0.7109\n",
      "56/56 [==============================] - 4s 64ms/sample - loss: 0.5179 - acc: 0.8036\n",
      "\n",
      "Accuracy :  0.8035714\n",
      "             precision    recall  f1-score   support\n",
      "\n",
      "    class 0       0.80      1.00      0.89        45\n",
      "    class 1       0.00      0.00      0.00        11\n",
      "\n",
      "avg / total       0.65      0.80      0.72        56\n",
      "\n"
     ]
    }
   ],
   "source": [
    "print(\"\\nRNN with Count Vectors: \")\n",
    "rnnModel(x_train_count, y_train, x_test_count)\n",
    "\n",
    "print(\"\\nRNN with  Count Vectors + TF-IDF: \")\n",
    "rnnModel(x_train_count_tfidf, y_train, x_test_count_tfidf)\n",
    "\n",
    "print(\"\\nRNN with N-Gram Vectors: \")\n",
    "rnnModel(x_train_tfidf_ngram, y_train, x_test_tfidf_ngram)"
   ]
  },
  {
   "cell_type": "code",
   "execution_count": null,
   "metadata": {
    "collapsed": true
   },
   "outputs": [],
   "source": []
  },
  {
   "cell_type": "markdown",
   "metadata": {},
   "source": [
    "### For 3 Labels:"
   ]
  },
  {
   "cell_type": "code",
   "execution_count": 7,
   "metadata": {
    "collapsed": true
   },
   "outputs": [],
   "source": [
    "speech = pd.read_csv(\"speech-data-three-label.csv\")\n",
    "\n",
    "# split the dataset into training and testing datasets \n",
    "x_train, x_test, y_train, y_test = train_test_split(speech['VideoText'], speech['Category'], test_size=0.3, random_state=1)\n",
    "\n",
    "# create a count vectorizer object \n",
    "cv = CountVectorizer(stop_words='english')\n",
    "cv.fit(speech['VideoText'])\n",
    "\n",
    "# transform the training and testing data using count vectorizer object\n",
    "x_train_count =  cv.transform(x_train)\n",
    "x_test_count =  cv.transform(x_test)\n",
    "\n",
    "tfidf_tr = TfidfTransformer()\n",
    "x_train_count_tfidf = tfidf_tr.fit_transform(x_train_count)\n",
    "x_test_count_tfidf = tfidf_tr.transform(x_test_count)\n",
    "\n",
    "# ngram level tf-idf \n",
    "tv_ngram = TfidfVectorizer(ngram_range=(1,2))\n",
    "tv_ngram.fit(speech['VideoText'])\n",
    "x_train_tfidf_ngram =  tv_ngram.transform(x_train)\n",
    "x_test_tfidf_ngram =  tv_ngram.transform(x_test)\n"
   ]
  },
  {
   "cell_type": "code",
   "execution_count": 8,
   "metadata": {
    "collapsed": true
   },
   "outputs": [],
   "source": [
    "def classifierModel(classifier, Xtrain, Ytrain, Xtest):\n",
    "    classifier.fit(Xtrain, Ytrain)\n",
    "    predictions = classifier.predict(Xtest)\n",
    "    print(\"\\nAccuracy : \", accuracy_score(predictions, y_test))\n",
    "    \n",
    "    target_names = ['class 0', 'class 1', 'class 2']\n",
    "    print(classification_report(y_test, predictions, target_names=target_names))"
   ]
  },
  {
   "cell_type": "code",
   "execution_count": 9,
   "metadata": {},
   "outputs": [
    {
     "name": "stdout",
     "output_type": "stream",
     "text": [
      "\n",
      "Naive Bayes with Count Vectors: \n",
      "\n",
      "Accuracy :  0.75\n",
      "             precision    recall  f1-score   support\n",
      "\n",
      "    class 0       0.97      0.80      0.88        45\n",
      "    class 1       0.36      1.00      0.53         5\n",
      "    class 2       0.20      0.17      0.18         6\n",
      "\n",
      "avg / total       0.84      0.75      0.77        56\n",
      "\n",
      "\n",
      "Naive Bayes with Count Vectors + TF-IDF: \n",
      "\n",
      "Accuracy :  0.8214285714285714\n",
      "             precision    recall  f1-score   support\n",
      "\n",
      "    class 0       0.82      1.00      0.90        45\n",
      "    class 1       1.00      0.20      0.33         5\n",
      "    class 2       0.00      0.00      0.00         6\n",
      "\n",
      "avg / total       0.75      0.82      0.75        56\n",
      "\n",
      "\n",
      "Naive Bayes with N-Gram Vectors: \n",
      "\n",
      "Accuracy :  0.8214285714285714\n",
      "             precision    recall  f1-score   support\n",
      "\n",
      "    class 0       0.82      1.00      0.90        45\n",
      "    class 1       1.00      0.20      0.33         5\n",
      "    class 2       0.00      0.00      0.00         6\n",
      "\n",
      "avg / total       0.75      0.82      0.75        56\n",
      "\n"
     ]
    },
    {
     "name": "stderr",
     "output_type": "stream",
     "text": [
      "D:\\Anaconda3\\lib\\site-packages\\sklearn\\metrics\\classification.py:1135: UndefinedMetricWarning: Precision and F-score are ill-defined and being set to 0.0 in labels with no predicted samples.\n",
      "  'precision', 'predicted', average, warn_for)\n"
     ]
    }
   ],
   "source": [
    "print(\"\\nNaive Bayes with Count Vectors: \")\n",
    "classifierModel(MultinomialNB(), x_train_count, y_train, x_test_count)\n",
    "\n",
    "print(\"\\nNaive Bayes with Count Vectors + TF-IDF: \")\n",
    "classifierModel(MultinomialNB(), x_train_count_tfidf, y_train, x_test_count_tfidf)\n",
    "\n",
    "print(\"\\nNaive Bayes with N-Gram Vectors: \")\n",
    "classifierModel(MultinomialNB(), x_train_tfidf_ngram, y_train, x_test_tfidf_ngram)"
   ]
  },
  {
   "cell_type": "code",
   "execution_count": 10,
   "metadata": {},
   "outputs": [
    {
     "name": "stdout",
     "output_type": "stream",
     "text": [
      "\n",
      "LinearSVM with Count Vectors: \n",
      "\n",
      "Accuracy :  0.8214285714285714\n",
      "             precision    recall  f1-score   support\n",
      "\n",
      "    class 0       0.98      0.89      0.93        45\n",
      "    class 1       0.33      0.80      0.47         5\n",
      "    class 2       0.67      0.33      0.44         6\n",
      "\n",
      "avg / total       0.89      0.82      0.84        56\n",
      "\n",
      "\n",
      "LinearSVM with Count Vectors + TF-IDF: \n",
      "\n",
      "Accuracy :  0.8571428571428571\n",
      "             precision    recall  f1-score   support\n",
      "\n",
      "    class 0       0.87      1.00      0.93        45\n",
      "    class 1       0.75      0.60      0.67         5\n",
      "    class 2       0.00      0.00      0.00         6\n",
      "\n",
      "avg / total       0.76      0.86      0.81        56\n",
      "\n",
      "\n",
      "LinearSVM with N-Gram Vectors: \n",
      "\n",
      "Accuracy :  0.8571428571428571\n",
      "             precision    recall  f1-score   support\n",
      "\n",
      "    class 0       0.85      1.00      0.92        45\n",
      "    class 1       1.00      0.40      0.57         5\n",
      "    class 2       1.00      0.17      0.29         6\n",
      "\n",
      "avg / total       0.88      0.86      0.82        56\n",
      "\n"
     ]
    },
    {
     "name": "stderr",
     "output_type": "stream",
     "text": [
      "D:\\Anaconda3\\lib\\site-packages\\sklearn\\metrics\\classification.py:1135: UndefinedMetricWarning: Precision and F-score are ill-defined and being set to 0.0 in labels with no predicted samples.\n",
      "  'precision', 'predicted', average, warn_for)\n"
     ]
    }
   ],
   "source": [
    "print(\"\\nLinearSVM with Count Vectors: \")\n",
    "classifierModel(LinearSVC(), x_train_count, y_train, x_test_count)\n",
    "\n",
    "print(\"\\nLinearSVM with Count Vectors + TF-IDF: \")\n",
    "classifierModel(LinearSVC(), x_train_count_tfidf, y_train, x_test_count_tfidf)\n",
    "\n",
    "print(\"\\nLinearSVM with N-Gram Vectors: \")\n",
    "classifierModel(LinearSVC(), x_train_tfidf_ngram, y_train, x_test_tfidf_ngram)\n"
   ]
  },
  {
   "cell_type": "code",
   "execution_count": 30,
   "metadata": {},
   "outputs": [
    {
     "name": "stdout",
     "output_type": "stream",
     "text": [
      "\n",
      "LinearSVM with Count Vectors: \n",
      "\n",
      "Accuracy :  0.7678571428571429\n",
      "             precision    recall  f1-score   support\n",
      "\n",
      "    class 0       0.97      0.82      0.89        45\n",
      "    class 1       0.27      0.80      0.40         5\n",
      "    class 2       0.67      0.33      0.44         6\n",
      "\n",
      "avg / total       0.88      0.77      0.80        56\n",
      "\n",
      "\n",
      "LinearSVM with Count Vectors + TF-IDF: \n",
      "\n",
      "Accuracy :  0.8571428571428571\n",
      "             precision    recall  f1-score   support\n",
      "\n",
      "    class 0       0.87      1.00      0.93        45\n",
      "    class 1       0.75      0.60      0.67         5\n",
      "    class 2       0.00      0.00      0.00         6\n",
      "\n",
      "avg / total       0.76      0.86      0.81        56\n",
      "\n",
      "\n",
      "LinearSVM with N-Gram Vectors: \n",
      "\n",
      "Accuracy :  0.8392857142857143\n",
      "             precision    recall  f1-score   support\n",
      "\n",
      "    class 0       0.85      1.00      0.92        45\n",
      "    class 1       0.67      0.40      0.50         5\n",
      "    class 2       0.00      0.00      0.00         6\n",
      "\n",
      "avg / total       0.74      0.84      0.78        56\n",
      "\n"
     ]
    },
    {
     "name": "stderr",
     "output_type": "stream",
     "text": [
      "D:\\Anaconda3\\lib\\site-packages\\sklearn\\metrics\\classification.py:1135: UndefinedMetricWarning: Precision and F-score are ill-defined and being set to 0.0 in labels with no predicted samples.\n",
      "  'precision', 'predicted', average, warn_for)\n"
     ]
    }
   ],
   "source": [
    "print(\"\\nLinearSVM with Count Vectors: \")\n",
    "classifierModel(SVC(kernel='linear'), x_train_count, y_train, x_test_count)\n",
    "\n",
    "print(\"\\nLinearSVM with Count Vectors + TF-IDF: \")\n",
    "classifierModel(SVC(kernel='linear'), x_train_count_tfidf, y_train, x_test_count_tfidf)\n",
    "\n",
    "print(\"\\nLinearSVM with N-Gram Vectors: \")\n",
    "classifierModel(SVC(kernel='linear'), x_train_tfidf_ngram, y_train, x_test_tfidf_ngram)"
   ]
  },
  {
   "cell_type": "code",
   "execution_count": 11,
   "metadata": {},
   "outputs": [
    {
     "name": "stdout",
     "output_type": "stream",
     "text": [
      "\n",
      "Random Forrest Classifier with Count Vectors: \n",
      "\n",
      "Accuracy :  0.875\n",
      "             precision    recall  f1-score   support\n",
      "\n",
      "    class 0       0.96      1.00      0.98        45\n",
      "    class 1       0.44      0.80      0.57         5\n",
      "    class 2       0.00      0.00      0.00         6\n",
      "\n",
      "avg / total       0.81      0.88      0.84        56\n",
      "\n",
      "\n",
      "Random Forrest Classifier with Count Vectors + TF-IDF: \n"
     ]
    },
    {
     "name": "stderr",
     "output_type": "stream",
     "text": [
      "D:\\Anaconda3\\lib\\site-packages\\sklearn\\metrics\\classification.py:1135: UndefinedMetricWarning: Precision and F-score are ill-defined and being set to 0.0 in labels with no predicted samples.\n",
      "  'precision', 'predicted', average, warn_for)\n"
     ]
    },
    {
     "name": "stdout",
     "output_type": "stream",
     "text": [
      "\n",
      "Accuracy :  0.8571428571428571\n",
      "             precision    recall  f1-score   support\n",
      "\n",
      "    class 0       0.90      1.00      0.95        45\n",
      "    class 1       0.50      0.60      0.55         5\n",
      "    class 2       0.00      0.00      0.00         6\n",
      "\n",
      "avg / total       0.77      0.86      0.81        56\n",
      "\n",
      "\n",
      "Random Forrest Classifier with N-Gram Vectors: \n"
     ]
    },
    {
     "name": "stderr",
     "output_type": "stream",
     "text": [
      "D:\\Anaconda3\\lib\\site-packages\\sklearn\\metrics\\classification.py:1135: UndefinedMetricWarning: Precision and F-score are ill-defined and being set to 0.0 in labels with no predicted samples.\n",
      "  'precision', 'predicted', average, warn_for)\n"
     ]
    },
    {
     "name": "stdout",
     "output_type": "stream",
     "text": [
      "\n",
      "Accuracy :  0.8392857142857143\n",
      "             precision    recall  f1-score   support\n",
      "\n",
      "    class 0       0.85      1.00      0.92        45\n",
      "    class 1       0.67      0.40      0.50         5\n",
      "    class 2       0.00      0.00      0.00         6\n",
      "\n",
      "avg / total       0.74      0.84      0.78        56\n",
      "\n"
     ]
    },
    {
     "name": "stderr",
     "output_type": "stream",
     "text": [
      "D:\\Anaconda3\\lib\\site-packages\\sklearn\\metrics\\classification.py:1135: UndefinedMetricWarning: Precision and F-score are ill-defined and being set to 0.0 in labels with no predicted samples.\n",
      "  'precision', 'predicted', average, warn_for)\n"
     ]
    }
   ],
   "source": [
    "print(\"\\nRandom Forrest Classifier with Count Vectors: \")\n",
    "classifierModel(RandomForestClassifier(random_state=40,n_estimators=1024), x_train_count, y_train, x_test_count)\n",
    "\n",
    "print(\"\\nRandom Forrest Classifier with Count Vectors + TF-IDF: \")\n",
    "classifierModel(RandomForestClassifier(random_state=40,n_estimators=1024), x_train_count_tfidf, y_train, x_test_count_tfidf)\n",
    "\n",
    "print(\"\\nRandom Forrest Classifier with N-Gram Vectors: \")\n",
    "classifierModel(RandomForestClassifier(random_state=40,n_estimators=1024), x_train_tfidf_ngram, y_train, x_test_tfidf_ngram)\n"
   ]
  },
  {
   "cell_type": "code",
   "execution_count": 32,
   "metadata": {
    "collapsed": true
   },
   "outputs": [],
   "source": [
    "def rnnModel(Xtrain, Ytrain, Xtest):\n",
    "    model = tf.keras.Sequential([\n",
    "        tf.keras.layers.Embedding(1000, 64),\n",
    "        tf.keras.layers.Bidirectional(tf.keras.layers.LSTM(10)),\n",
    "        tf.keras.layers.Dense(64, activation='relu'),\n",
    "        tf.keras.layers.Dense(1, activation='sigmoid')\n",
    "    ])\n",
    "\n",
    "    model.compile(loss='binary_crossentropy',\n",
    "                  optimizer='adam',\n",
    "                  metrics=['accuracy'])\n",
    "\n",
    "    model.fit(Xtrain, Ytrain, batch_size=30, epochs=10)\n",
    "    \n",
    "    test_loss, test_acc = model.evaluate(Xtest, y_test)\n",
    "    print(\"\\nAccuracy : \",test_acc)\n",
    "    \n",
    "    predictions = model.predict(Xtest)\n",
    "    \n",
    "    target_names = ['class 0', 'class 1', 'class 2']\n",
    "    print(classification_report(y_test, predictions.round(), target_names=target_names)) \n",
    "    "
   ]
  },
  {
   "cell_type": "code",
   "execution_count": 33,
   "metadata": {},
   "outputs": [
    {
     "name": "stdout",
     "output_type": "stream",
     "text": [
      "\n",
      "RNN with Count Vectors: \n",
      "Epoch 1/10\n",
      "128/128 [==============================] - 11s 83ms/sample - loss: 0.6889 - acc: 0.7109\n",
      "Epoch 2/10\n",
      "128/128 [==============================] - 9s 73ms/sample - loss: 0.6811 - acc: 0.7109\n",
      "Epoch 3/10\n",
      "128/128 [==============================] - 8s 64ms/sample - loss: 0.6753 - acc: 0.7109\n",
      "Epoch 4/10\n",
      "128/128 [==============================] - 8s 61ms/sample - loss: 0.6692 - acc: 0.7109\n",
      "Epoch 5/10\n",
      "128/128 [==============================] - 8s 60ms/sample - loss: 0.6623 - acc: 0.7109\n",
      "Epoch 6/10\n",
      "128/128 [==============================] - 8s 59ms/sample - loss: 0.6578 - acc: 0.7109\n",
      "Epoch 7/10\n",
      "128/128 [==============================] - 7s 58ms/sample - loss: 0.6563 - acc: 0.7109\n",
      "Epoch 8/10\n",
      "128/128 [==============================] - 8s 61ms/sample - loss: 0.6546 - acc: 0.7109\n",
      "Epoch 9/10\n",
      "128/128 [==============================] - 8s 60ms/sample - loss: 0.6543 - acc: 0.7109\n",
      "Epoch 10/10\n",
      "128/128 [==============================] - 8s 61ms/sample - loss: 0.6542 - acc: 0.7109\n",
      "56/56 [==============================] - 1s 15ms/sample - loss: 0.6269 - acc: 0.8036\n",
      "\n",
      "Accuracy :  0.8035714\n"
     ]
    },
    {
     "name": "stderr",
     "output_type": "stream",
     "text": [
      "D:\\Anaconda3\\lib\\site-packages\\sklearn\\metrics\\classification.py:1135: UndefinedMetricWarning: Precision and F-score are ill-defined and being set to 0.0 in labels with no predicted samples.\n",
      "  'precision', 'predicted', average, warn_for)\n"
     ]
    },
    {
     "name": "stdout",
     "output_type": "stream",
     "text": [
      "             precision    recall  f1-score   support\n",
      "\n",
      "    class 0       0.80      1.00      0.89        45\n",
      "    class 1       0.00      0.00      0.00         5\n",
      "    class 2       0.00      0.00      0.00         6\n",
      "\n",
      "avg / total       0.65      0.80      0.72        56\n",
      "\n",
      "\n",
      "RNN with  Count Vectors + TF-IDF: \n",
      "Epoch 1/10\n",
      "128/128 [==============================] - 9s 72ms/sample - loss: 0.6862 - acc: 0.7109\n",
      "Epoch 2/10\n",
      "128/128 [==============================] - 8s 60ms/sample - loss: 0.6770 - acc: 0.7109\n",
      "Epoch 3/10\n",
      "128/128 [==============================] - 8s 64ms/sample - loss: 0.6683 - acc: 0.7109\n",
      "Epoch 4/10\n",
      "128/128 [==============================] - 8s 60ms/sample - loss: 0.6631 - acc: 0.7109\n",
      "Epoch 5/10\n",
      "128/128 [==============================] - 7s 59ms/sample - loss: 0.6587 - acc: 0.7109\n",
      "Epoch 6/10\n",
      "128/128 [==============================] - 7s 57ms/sample - loss: 0.6570 - acc: 0.7109\n",
      "Epoch 7/10\n",
      "128/128 [==============================] - 7s 58ms/sample - loss: 0.6518 - acc: 0.7109\n",
      "Epoch 8/10\n",
      "128/128 [==============================] - 7s 58ms/sample - loss: 0.6533 - acc: 0.7109\n",
      "Epoch 9/10\n",
      "128/128 [==============================] - 7s 58ms/sample - loss: 0.6538 - acc: 0.7109\n",
      "Epoch 10/10\n",
      "128/128 [==============================] - 7s 58ms/sample - loss: 0.6563 - acc: 0.7109\n",
      "56/56 [==============================] - 1s 17ms/sample - loss: 0.6146 - acc: 0.8036\n",
      "\n",
      "Accuracy :  0.8035714\n",
      "             precision    recall  f1-score   support\n",
      "\n",
      "    class 0       0.80      1.00      0.89        45\n",
      "    class 1       0.00      0.00      0.00         5\n",
      "    class 2       0.00      0.00      0.00         6\n",
      "\n",
      "avg / total       0.65      0.80      0.72        56\n",
      "\n",
      "\n",
      "RNN with N-Gram Vectors: \n",
      "Epoch 1/10\n",
      "128/128 [==============================] - 42s 332ms/sample - loss: 0.6907 - acc: 0.7109\n",
      "Epoch 2/10\n",
      "128/128 [==============================] - 41s 323ms/sample - loss: 0.6854 - acc: 0.7109\n",
      "Epoch 3/10\n",
      "128/128 [==============================] - 44s 342ms/sample - loss: 0.6785 - acc: 0.7109\n",
      "Epoch 4/10\n",
      "128/128 [==============================] - 48s 375ms/sample - loss: 0.6719 - acc: 0.7109\n",
      "Epoch 5/10\n",
      "128/128 [==============================] - 46s 357ms/sample - loss: 0.6630 - acc: 0.7109\n",
      "Epoch 6/10\n",
      "128/128 [==============================] - 45s 351ms/sample - loss: 0.6561 - acc: 0.7109\n",
      "Epoch 7/10\n",
      "128/128 [==============================] - 49s 381ms/sample - loss: 0.6576 - acc: 0.7109\n",
      "Epoch 8/10\n",
      "128/128 [==============================] - 50s 392ms/sample - loss: 0.6542 - acc: 0.7109\n",
      "Epoch 9/10\n",
      "128/128 [==============================] - 51s 400ms/sample - loss: 0.6533 - acc: 0.7109\n",
      "Epoch 10/10\n",
      "128/128 [==============================] - 45s 355ms/sample - loss: 0.6546 - acc: 0.7109\n",
      "56/56 [==============================] - 3s 48ms/sample - loss: 0.6191 - acc: 0.8036\n",
      "\n",
      "Accuracy :  0.8035714\n",
      "             precision    recall  f1-score   support\n",
      "\n",
      "    class 0       0.80      1.00      0.89        45\n",
      "    class 1       0.00      0.00      0.00         5\n",
      "    class 2       0.00      0.00      0.00         6\n",
      "\n",
      "avg / total       0.65      0.80      0.72        56\n",
      "\n"
     ]
    }
   ],
   "source": [
    "print(\"\\nRNN with Count Vectors: \")\n",
    "rnnModel(x_train_count, y_train, x_test_count)\n",
    "\n",
    "print(\"\\nRNN with  Count Vectors + TF-IDF: \")\n",
    "rnnModel(x_train_count_tfidf, y_train, x_test_count_tfidf)\n",
    "\n",
    "print(\"\\nRNN with N-Gram Vectors: \")\n",
    "rnnModel(x_train_tfidf_ngram, y_train, x_test_tfidf_ngram)"
   ]
  },
  {
   "cell_type": "code",
   "execution_count": null,
   "metadata": {
    "collapsed": true
   },
   "outputs": [],
   "source": []
  }
 ],
 "metadata": {
  "kernelspec": {
   "display_name": "Python 3",
   "language": "python",
   "name": "python3"
  },
  "language_info": {
   "codemirror_mode": {
    "name": "ipython",
    "version": 3
   },
   "file_extension": ".py",
   "mimetype": "text/x-python",
   "name": "python",
   "nbconvert_exporter": "python",
   "pygments_lexer": "ipython3",
   "version": "3.6.3"
  }
 },
 "nbformat": 4,
 "nbformat_minor": 2
}
